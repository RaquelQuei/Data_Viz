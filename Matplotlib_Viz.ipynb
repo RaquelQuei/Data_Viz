{
  "nbformat": 4,
  "nbformat_minor": 0,
  "metadata": {
    "colab": {
      "name": "Matplotlib_Viz.ipynb",
      "provenance": [],
      "authorship_tag": "ABX9TyOexwpMzbBeo9QFmT3e+UxY",
      "include_colab_link": true
    },
    "kernelspec": {
      "name": "python3",
      "display_name": "Python 3"
    },
    "language_info": {
      "name": "python"
    }
  },
  "cells": [
    {
      "cell_type": "markdown",
      "metadata": {
        "id": "view-in-github",
        "colab_type": "text"
      },
      "source": [
        "<a href=\"https://colab.research.google.com/github/RaquelQuei/Data_Viz/blob/main/Matplotlib_Viz.ipynb\" target=\"_parent\"><img src=\"https://colab.research.google.com/assets/colab-badge.svg\" alt=\"Open In Colab\"/></a>"
      ]
    },
    {
      "cell_type": "markdown",
      "source": [
        "## Matplotlib\n",
        "* Site e documentação: https://matplotlib.org/stable/tutorials/introductory/usage.html\n",
        "* Cores para o Matplotlib: https://bit.ly/3qNqtTb\n",
        "* Tipos de marcadores para plot: https://bit.ly/2Kp55CJ"
      ],
      "metadata": {
        "id": "iJroUsSeGX45"
      }
    },
    {
      "cell_type": "code",
      "source": [
        "import numpy as np\n",
        "import matplotlib.pyplot as plt \n",
        "# Parametros para os gráficos que vão ser considerados defaut\n",
        "plt.rcParams.update({'font.size': 14})"
      ],
      "metadata": {
        "id": "6DqqVJEvGfxM"
      },
      "execution_count": 1,
      "outputs": []
    },
    {
      "cell_type": "code",
      "source": [
        "# Escolhendo valores de x com Numpy arange  (onde inicia, até onde vai, step)\n",
        "x = np.arange(0,125, 5)\n",
        "x"
      ],
      "metadata": {
        "colab": {
          "base_uri": "https://localhost:8080/"
        },
        "id": "ieLv312DG3w4",
        "outputId": "b7d0fd86-eb06-4aec-f8ee-b6add0e0e80a"
      },
      "execution_count": null,
      "outputs": [
        {
          "output_type": "execute_result",
          "data": {
            "text/plain": [
              "array([  0,   5,  10,  15,  20,  25,  30,  35,  40,  45,  50,  55,  60,\n",
              "        65,  70,  75,  80,  85,  90,  95, 100, 105, 110, 115, 120])"
            ]
          },
          "metadata": {},
          "execution_count": 59
        }
      ]
    },
    {
      "cell_type": "code",
      "source": [
        "# Escolhendo valoes aleatórios de y com random do Numpy\n",
        "# len(x) para que faça par com os valores de x \n",
        "y = np.random.random(len(x))\n",
        "y"
      ],
      "metadata": {
        "colab": {
          "base_uri": "https://localhost:8080/"
        },
        "id": "3L4PycU1HXuv",
        "outputId": "5f0568e3-efcd-43bc-872f-e49fae157deb"
      },
      "execution_count": null,
      "outputs": [
        {
          "output_type": "execute_result",
          "data": {
            "text/plain": [
              "array([0.30445198, 0.37893512, 0.45776273, 0.06528468, 0.04714855,\n",
              "       0.0519691 , 0.69731083, 0.1072355 , 0.81129052, 0.02686347,\n",
              "       0.26140973, 0.4614787 , 0.53902333, 0.14024396, 0.24539406,\n",
              "       0.21855306, 0.2688727 , 0.55129842, 0.27073496, 0.19414963,\n",
              "       0.69116391, 0.56618782, 0.78632387, 0.37055889, 0.09182296])"
            ]
          },
          "metadata": {},
          "execution_count": 60
        }
      ]
    },
    {
      "cell_type": "code",
      "source": [
        "# Tamanho do Gráfico \n",
        "plt.figure(figsize = (8,5))\n",
        "\n",
        "# Visualizando o gráfico\n",
        "plt.scatter(x,y, \n",
        "            color = 'deeppink',  # cor do marcador\n",
        "            marker = 'o',        # escolhendo o tipo de marcador (quadrado, estrela, circulo) \n",
        "            s = 90,              # escolhendo o tamanho do marcador\n",
        "            edgecolor = 'black'  # cor da borda do marcador\n",
        ")\n",
        "\n",
        "# Título do Gráfico\n",
        "plt.title('Título do Gráfico - Dispersão', fontsize = 20)\n",
        "\n",
        "# Título do eixo x\n",
        "plt.xlabel('Titulo eixo x', fontsize = 14)\n",
        "\n",
        "# Título do eixo y\n",
        "plt.ylabel('\\nTitulo eixo y', fontsize = 14)\n",
        "\n",
        "# Salvando o Gráfico como imagem \n",
        "# dpi é a qualidade da imagem, quanto maior o dpi mais demorado é para rodar, e transparent é sobre o fundo da imagem\n",
        "plt.savefig('Gdispersao.png', dpi = 1200, transparent = True)\n",
        "\n",
        "plt.show()"
      ],
      "metadata": {
        "colab": {
          "base_uri": "https://localhost:8080/",
          "height": 364
        },
        "id": "9ScHPfKhH7k-",
        "outputId": "8d879040-eb60-4546-9e80-7f5be2a6569f"
      },
      "execution_count": null,
      "outputs": [
        {
          "output_type": "display_data",
          "data": {
            "text/plain": [
              "<Figure size 576x360 with 1 Axes>"
            ],
            "image/png": "[encoded data removed]"
          },
          "metadata": {
            "needs_background": "light"
          }
        }
      ]
    },
    {
      "cell_type": "markdown",
      "source": [
        "## Gráfico com 2 séries de Dados\n",
        "* Inserindo mais uma série de dados, do tamanho de x (len(x))\n",
        "* Adicionando identificador das séries\n",
        "* Posicionando o identificador \n",
        "* Aumentando os limites do gráfico com plt.xlim([-2,130]) plt.ylim([-1.5, 1.5])"
      ],
      "metadata": {
        "id": "oYA8knranf-h"
      }
    },
    {
      "cell_type": "code",
      "source": [
        "# Escolhendo valores de x com Numpy arange  (onde inicia, até onde vai, step)\n",
        "x = np.arange(0,125, 5)\n",
        "x"
      ],
      "metadata": {
        "colab": {
          "base_uri": "https://localhost:8080/"
        },
        "id": "N8DSeASam3vq",
        "outputId": "9a6b8f62-ceb9-4a96-ecbd-d6ac8d67fd37"
      },
      "execution_count": 2,
      "outputs": [
        {
          "output_type": "execute_result",
          "data": {
            "text/plain": [
              "array([  0,   5,  10,  15,  20,  25,  30,  35,  40,  45,  50,  55,  60,\n",
              "        65,  70,  75,  80,  85,  90,  95, 100, 105, 110, 115, 120])"
            ]
          },
          "metadata": {},
          "execution_count": 2
        }
      ]
    },
    {
      "cell_type": "code",
      "source": [
        "# Escolhendo valoes aleatórios de y com random do Numpy\n",
        "# len(x) para que faça par com os valores de x \n",
        "y = np.random.random(len(x))\n",
        "y"
      ],
      "metadata": {
        "colab": {
          "base_uri": "https://localhost:8080/"
        },
        "id": "DHjMY2_7nnKy",
        "outputId": "602418cd-7a96-4ed9-978b-a8b57ad4bb8d"
      },
      "execution_count": 3,
      "outputs": [
        {
          "output_type": "execute_result",
          "data": {
            "text/plain": [
              "array([0.98668994, 0.08023355, 0.29620548, 0.56643422, 0.32801608,\n",
              "       0.86275518, 0.65055574, 0.91635131, 0.5850327 , 0.3683684 ,\n",
              "       0.8635757 , 0.34149108, 0.13419977, 0.69121343, 0.93812724,\n",
              "       0.00251299, 0.2574215 , 0.80679878, 0.60417561, 0.0794131 ,\n",
              "       0.88713117, 0.12272753, 0.4994669 , 0.67026351, 0.14937216])"
            ]
          },
          "metadata": {},
          "execution_count": 3
        }
      ]
    },
    {
      "cell_type": "code",
      "source": [
        "y2 = np.random.uniform(-1, 0, len(x))"
      ],
      "metadata": {
        "id": "XKKYfSfXnwcX"
      },
      "execution_count": 4,
      "outputs": []
    },
    {
      "cell_type": "code",
      "source": [
        "# Tamanho do Gráfico \n",
        "plt.figure(figsize = (8,5))\n",
        "\n",
        "# Visualizando o gráfico\n",
        "plt.scatter(x,y, \n",
        "            color = 'salmon',  \n",
        "            marker = 'o',       \n",
        "            s = 95,              \n",
        "            edgecolor = 'black',\n",
        "            label = 'Série 1' # adicionando identificador da série\n",
        "\n",
        ")\n",
        "# incluindo a nova série \n",
        "plt.scatter(x,y2, \n",
        "            color = 'lightseagreen', \n",
        "            marker = 's',        \n",
        "            s = 85,              \n",
        "            edgecolor = 'black' ,\n",
        "            label = 'Série 2' # adicionando identificador da série\n",
        ")\n",
        "\n",
        "# Título do Gráfico\n",
        "plt.title('Título do Gráfico - Dispersão 2 Séries', fontsize = 15)\n",
        "\n",
        "# Título do eixo x\n",
        "plt.xlabel('Titulo eixo x', fontsize = 14)\n",
        "\n",
        "# Título do eixo y\n",
        "plt.ylabel('\\nTitulo eixo y', fontsize = 14)\n",
        "\n",
        "plt.xlim([-2,130])\n",
        "plt.ylim([-1.5, 1.5])\n",
        "plt.legend(ncol = 2, loc = 3, shadow = True) # deixando a legenda com 2 colunas, localizada no lado esquerdo abaixo, e com sombreado\n",
        "# plt.grid(True) inserindo grade\n",
        "plt.show()"
      ],
      "metadata": {
        "colab": {
          "base_uri": "https://localhost:8080/",
          "height": 357
        },
        "id": "CY_7XE5qnqPP",
        "outputId": "7af1feca-f262-4f62-82d6-e8e1dbf384f0"
      },
      "execution_count": 39,
      "outputs": [
        {
          "output_type": "display_data",
          "data": {
            "text/plain": [
              "<Figure size 576x360 with 1 Axes>"
            ],
            "image/png": "[encoded data removed]"
          },
          "metadata": {
            "needs_background": "light"
          }
        }
      ]
    }
  ]
}