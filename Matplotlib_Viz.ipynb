{
  "nbformat": 4,
  "nbformat_minor": 0,
  "metadata": {
    "colab": {
      "name": "Matplotlib_Viz.ipynb",
      "provenance": [],
      "authorship_tag": "ABX9TyNnK2aw/M+jWzTB8KfWzcn4",
      "include_colab_link": true
    },
    "kernelspec": {
      "name": "python3",
      "display_name": "Python 3"
    },
    "language_info": {
      "name": "python"
    }
  },
  "cells": [
    {
      "cell_type": "markdown",
      "metadata": {
        "id": "view-in-github",
        "colab_type": "text"
      },
      "source": [
        "<a href=\"https://colab.research.google.com/github/RaquelQuei/Data_Viz/blob/main/Matplotlib_Viz.ipynb\" target=\"_parent\"><img src=\"https://colab.research.google.com/assets/colab-badge.svg\" alt=\"Open In Colab\"/></a>"
      ]
    },
    {
      "cell_type": "markdown",
      "source": [
        "## Matplotlib\n",
        "* Site e documentação: https://matplotlib.org/stable/tutorials/introductory/usage.html\n",
        "* Cores para o Matplotlib: https://bit.ly/3qNqtTb\n",
        "* Tipos de marcadores para plot: https://bit.ly/2Kp55CJ"
      ],
      "metadata": {
        "id": "iJroUsSeGX45"
      }
    },
    {
      "cell_type": "code",
      "source": [
        "import numpy as np\n",
        "import matplotlib.pyplot as plt \n",
        "# Parametros para os gráficos que vão ser considerados defaut\n",
        "plt.rcParams.update({'font.size': 14})"
      ],
      "metadata": {
        "id": "6DqqVJEvGfxM"
      },
      "execution_count": null,
      "outputs": []
    },
    {
      "cell_type": "code",
      "source": [
        "# Escolhendo valores de x com Numpy arange  (onde inicia, até onde vai, step)\n",
        "x = np.arange(0,125, 5)\n",
        "x"
      ],
      "metadata": {
        "colab": {
          "base_uri": "https://localhost:8080/"
        },
        "id": "ieLv312DG3w4",
        "outputId": "b7d0fd86-eb06-4aec-f8ee-b6add0e0e80a"
      },
      "execution_count": null,
      "outputs": [
        {
          "output_type": "execute_result",
          "data": {
            "text/plain": [
              "array([  0,   5,  10,  15,  20,  25,  30,  35,  40,  45,  50,  55,  60,\n",
              "        65,  70,  75,  80,  85,  90,  95, 100, 105, 110, 115, 120])"
            ]
          },
          "metadata": {},
          "execution_count": 59
        }
      ]
    },
    {
      "cell_type": "code",
      "source": [
        "# Escolhendo valoes aleatórios de y com random do Numpy\n",
        "# len(x) para que faça par com os valores de x \n",
        "y = np.random.random(len(x))\n",
        "y"
      ],
      "metadata": {
        "colab": {
          "base_uri": "https://localhost:8080/"
        },
        "id": "3L4PycU1HXuv",
        "outputId": "5f0568e3-efcd-43bc-872f-e49fae157deb"
      },
      "execution_count": null,
      "outputs": [
        {
          "output_type": "execute_result",
          "data": {
            "text/plain": [
              "array([0.30445198, 0.37893512, 0.45776273, 0.06528468, 0.04714855,\n",
              "       0.0519691 , 0.69731083, 0.1072355 , 0.81129052, 0.02686347,\n",
              "       0.26140973, 0.4614787 , 0.53902333, 0.14024396, 0.24539406,\n",
              "       0.21855306, 0.2688727 , 0.55129842, 0.27073496, 0.19414963,\n",
              "       0.69116391, 0.56618782, 0.78632387, 0.37055889, 0.09182296])"
            ]
          },
          "metadata": {},
          "execution_count": 60
        }
      ]
    },
    {
      "cell_type": "code",
      "source": [
        "# Tamanho do Gráfico \n",
        "plt.figure(figsize = (8,5))\n",
        "\n",
        "# Visualizando o gráfico\n",
        "plt.scatter(x,y, \n",
        "            color = 'deeppink',  # cor do marcador\n",
        "            marker = 'o',        # escolhendo o tipo de marcador (quadrado, estrela, circulo) \n",
        "            s = 90,              # escolhendo o tamanho do marcador\n",
        "            edgecolor = 'black'  # cor da borda do marcador\n",
        ")\n",
        "\n",
        "# Título do Gráfico\n",
        "plt.title('Título do Gráfico - Dispersão', fontsize = 20)\n",
        "\n",
        "# Título do eixo x\n",
        "plt.xlabel('Titulo eixo x', fontsize = 14)\n",
        "\n",
        "# Título do eixo y\n",
        "plt.ylabel('\\nTitulo eixo y', fontsize = 14)\n",
        "\n",
        "# Salvando o Gráfico como imagem \n",
        "# dpi é a qualidade da imagem, quanto maior o dpi mais demorado é para rodar, e transparent é sobre o fundo da imagem\n",
        "plt.savefig('Gdispersao.png', dpi = 1200, transparent = True)\n",
        "\n",
        "plt.show()"
      ],
      "metadata": {
        "colab": {
          "base_uri": "https://localhost:8080/",
          "height": 364
        },
        "id": "9ScHPfKhH7k-",
        "outputId": "8d879040-eb60-4546-9e80-7f5be2a6569f"
      },
      "execution_count": null,
      "outputs": [
        {
          "output_type": "display_data",
          "data": {
            "text/plain": [
              "<Figure size 576x360 with 1 Axes>"
            ],
            "image/png": "[encoded data removed]"
          },
          "metadata": {
            "needs_background": "light"
          }
        }
      ]
    }
  ]
}